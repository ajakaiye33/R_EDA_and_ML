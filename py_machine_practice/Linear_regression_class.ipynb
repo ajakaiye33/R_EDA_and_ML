{
 "cells": [
  {
   "cell_type": "code",
   "execution_count": 1,
   "metadata": {
    "collapsed": true
   },
   "outputs": [],
   "source": [
    "# Load necessary packages\n",
    "import pandas as pd\n",
    "\n",
    "import numpy as np"
   ]
  },
  {
   "cell_type": "code",
   "execution_count": 2,
   "metadata": {},
   "outputs": [
    {
     "data": {
      "text/html": [
       "<div>\n",
       "<style>\n",
       "    .dataframe thead tr:only-child th {\n",
       "        text-align: right;\n",
       "    }\n",
       "\n",
       "    .dataframe thead th {\n",
       "        text-align: left;\n",
       "    }\n",
       "\n",
       "    .dataframe tbody tr th {\n",
       "        vertical-align: top;\n",
       "    }\n",
       "</style>\n",
       "<table border=\"1\" class=\"dataframe\">\n",
       "  <thead>\n",
       "    <tr style=\"text-align: right;\">\n",
       "      <th></th>\n",
       "      <th>Id</th>\n",
       "      <th>MSSubClass</th>\n",
       "      <th>MSZoning</th>\n",
       "      <th>LotFrontage</th>\n",
       "      <th>LotArea</th>\n",
       "      <th>Street</th>\n",
       "      <th>Alley</th>\n",
       "      <th>LotShape</th>\n",
       "      <th>LandContour</th>\n",
       "      <th>Utilities</th>\n",
       "      <th>...</th>\n",
       "      <th>PoolArea</th>\n",
       "      <th>PoolQC</th>\n",
       "      <th>Fence</th>\n",
       "      <th>MiscFeature</th>\n",
       "      <th>MiscVal</th>\n",
       "      <th>MoSold</th>\n",
       "      <th>YrSold</th>\n",
       "      <th>SaleType</th>\n",
       "      <th>SaleCondition</th>\n",
       "      <th>SalePrice</th>\n",
       "    </tr>\n",
       "  </thead>\n",
       "  <tbody>\n",
       "    <tr>\n",
       "      <th>0</th>\n",
       "      <td>1</td>\n",
       "      <td>60</td>\n",
       "      <td>RL</td>\n",
       "      <td>65.0</td>\n",
       "      <td>8450</td>\n",
       "      <td>Pave</td>\n",
       "      <td>NaN</td>\n",
       "      <td>Reg</td>\n",
       "      <td>Lvl</td>\n",
       "      <td>AllPub</td>\n",
       "      <td>...</td>\n",
       "      <td>0</td>\n",
       "      <td>NaN</td>\n",
       "      <td>NaN</td>\n",
       "      <td>NaN</td>\n",
       "      <td>0</td>\n",
       "      <td>2</td>\n",
       "      <td>2008</td>\n",
       "      <td>WD</td>\n",
       "      <td>Normal</td>\n",
       "      <td>208500</td>\n",
       "    </tr>\n",
       "    <tr>\n",
       "      <th>1</th>\n",
       "      <td>2</td>\n",
       "      <td>20</td>\n",
       "      <td>RL</td>\n",
       "      <td>80.0</td>\n",
       "      <td>9600</td>\n",
       "      <td>Pave</td>\n",
       "      <td>NaN</td>\n",
       "      <td>Reg</td>\n",
       "      <td>Lvl</td>\n",
       "      <td>AllPub</td>\n",
       "      <td>...</td>\n",
       "      <td>0</td>\n",
       "      <td>NaN</td>\n",
       "      <td>NaN</td>\n",
       "      <td>NaN</td>\n",
       "      <td>0</td>\n",
       "      <td>5</td>\n",
       "      <td>2007</td>\n",
       "      <td>WD</td>\n",
       "      <td>Normal</td>\n",
       "      <td>181500</td>\n",
       "    </tr>\n",
       "    <tr>\n",
       "      <th>2</th>\n",
       "      <td>3</td>\n",
       "      <td>60</td>\n",
       "      <td>RL</td>\n",
       "      <td>68.0</td>\n",
       "      <td>11250</td>\n",
       "      <td>Pave</td>\n",
       "      <td>NaN</td>\n",
       "      <td>IR1</td>\n",
       "      <td>Lvl</td>\n",
       "      <td>AllPub</td>\n",
       "      <td>...</td>\n",
       "      <td>0</td>\n",
       "      <td>NaN</td>\n",
       "      <td>NaN</td>\n",
       "      <td>NaN</td>\n",
       "      <td>0</td>\n",
       "      <td>9</td>\n",
       "      <td>2008</td>\n",
       "      <td>WD</td>\n",
       "      <td>Normal</td>\n",
       "      <td>223500</td>\n",
       "    </tr>\n",
       "  </tbody>\n",
       "</table>\n",
       "<p>3 rows × 81 columns</p>\n",
       "</div>"
      ],
      "text/plain": [
       "   Id  MSSubClass MSZoning  LotFrontage  LotArea Street Alley LotShape  \\\n",
       "0   1          60       RL         65.0     8450   Pave   NaN      Reg   \n",
       "1   2          20       RL         80.0     9600   Pave   NaN      Reg   \n",
       "2   3          60       RL         68.0    11250   Pave   NaN      IR1   \n",
       "\n",
       "  LandContour Utilities    ...     PoolArea PoolQC Fence MiscFeature MiscVal  \\\n",
       "0         Lvl    AllPub    ...            0    NaN   NaN         NaN       0   \n",
       "1         Lvl    AllPub    ...            0    NaN   NaN         NaN       0   \n",
       "2         Lvl    AllPub    ...            0    NaN   NaN         NaN       0   \n",
       "\n",
       "  MoSold YrSold  SaleType  SaleCondition  SalePrice  \n",
       "0      2   2008        WD         Normal     208500  \n",
       "1      5   2007        WD         Normal     181500  \n",
       "2      9   2008        WD         Normal     223500  \n",
       "\n",
       "[3 rows x 81 columns]"
      ]
     },
     "execution_count": 2,
     "metadata": {},
     "output_type": "execute_result"
    }
   ],
   "source": [
    "#load data set\n",
    "house = pd.read_csv(\"./data/train_data.csv\")\n",
    "house.head(3)"
   ]
  },
  {
   "cell_type": "code",
   "execution_count": 3,
   "metadata": {},
   "outputs": [
    {
     "name": "stdout",
     "output_type": "stream",
     "text": [
      "The data is compose of 1460 rows and 81 columns/variable\n"
     ]
    }
   ],
   "source": [
    "house.shape\n",
    "print(\"The data is compose of {} rows and {} columns/variable\".format(house.shape[0], house.shape[1]))"
   ]
  },
  {
   "cell_type": "code",
   "execution_count": 4,
   "metadata": {},
   "outputs": [
    {
     "name": "stdout",
     "output_type": "stream",
     "text": [
      "The number of missing values in the Target variable is 0\n"
     ]
    }
   ],
   "source": [
    "# check the target column for missing values\n",
    "print(\"The number of missing values in the Target variable is {}\".format(house['SalePrice'].isnull().sum()))"
   ]
  },
  {
   "cell_type": "code",
   "execution_count": 5,
   "metadata": {
    "collapsed": true
   },
   "outputs": [],
   "source": [
    "#Extract target variable from data set\n",
    "y = house['SalePrice'].values\n",
    "house.drop('SalePrice', axis=1, inplace = True)\n"
   ]
  },
  {
   "cell_type": "code",
   "execution_count": 6,
   "metadata": {
    "collapsed": true
   },
   "outputs": [],
   "source": [
    "# drop the ID column\n",
    "house.drop('Id', axis =1, inplace = True)"
   ]
  },
  {
   "cell_type": "code",
   "execution_count": 7,
   "metadata": {},
   "outputs": [
    {
     "data": {
      "text/plain": [
       "MSSubClass        0.000000\n",
       "MSZoning          0.000000\n",
       "LotFrontage      17.739726\n",
       "LotArea           0.000000\n",
       "Street            0.000000\n",
       "Alley            93.767123\n",
       "LotShape          0.000000\n",
       "LandContour       0.000000\n",
       "Utilities         0.000000\n",
       "LotConfig         0.000000\n",
       "LandSlope         0.000000\n",
       "Neighborhood      0.000000\n",
       "Condition1        0.000000\n",
       "Condition2        0.000000\n",
       "BldgType          0.000000\n",
       "HouseStyle        0.000000\n",
       "OverallQual       0.000000\n",
       "OverallCond       0.000000\n",
       "YearBuilt         0.000000\n",
       "YearRemodAdd      0.000000\n",
       "RoofStyle         0.000000\n",
       "RoofMatl          0.000000\n",
       "Exterior1st       0.000000\n",
       "Exterior2nd       0.000000\n",
       "MasVnrType        0.547945\n",
       "MasVnrArea        0.547945\n",
       "ExterQual         0.000000\n",
       "ExterCond         0.000000\n",
       "Foundation        0.000000\n",
       "BsmtQual          2.534247\n",
       "                   ...    \n",
       "HalfBath          0.000000\n",
       "BedroomAbvGr      0.000000\n",
       "KitchenAbvGr      0.000000\n",
       "KitchenQual       0.000000\n",
       "TotRmsAbvGrd      0.000000\n",
       "Functional        0.000000\n",
       "Fireplaces        0.000000\n",
       "FireplaceQu      47.260274\n",
       "GarageType        5.547945\n",
       "GarageYrBlt       5.547945\n",
       "GarageFinish      5.547945\n",
       "GarageCars        0.000000\n",
       "GarageArea        0.000000\n",
       "GarageQual        5.547945\n",
       "GarageCond        5.547945\n",
       "PavedDrive        0.000000\n",
       "WoodDeckSF        0.000000\n",
       "OpenPorchSF       0.000000\n",
       "EnclosedPorch     0.000000\n",
       "3SsnPorch         0.000000\n",
       "ScreenPorch       0.000000\n",
       "PoolArea          0.000000\n",
       "PoolQC           99.520548\n",
       "Fence            80.753425\n",
       "MiscFeature      96.301370\n",
       "MiscVal           0.000000\n",
       "MoSold            0.000000\n",
       "YrSold            0.000000\n",
       "SaleType          0.000000\n",
       "SaleCondition     0.000000\n",
       "Length: 79, dtype: float64"
      ]
     },
     "execution_count": 7,
     "metadata": {},
     "output_type": "execute_result"
    }
   ],
   "source": [
    "# check the percentage of missing values per column\n",
    "house.isnull().mean(axis = 0) *100\n"
   ]
  },
  {
   "cell_type": "code",
   "execution_count": 8,
   "metadata": {},
   "outputs": [
    {
     "name": "stdout",
     "output_type": "stream",
     "text": [
      "Number of columns before droping columns 79\n"
     ]
    }
   ],
   "source": [
    "# drop columns with high percentage of missing values\n",
    "high_per = ['MiscFeature', 'Fence', 'PoolQC', 'FireplaceQu','Alley','LotFrontage']\n",
    "print('Number of columns before droping columns', house.shape[1])\n",
    "house.drop(high_per, axis = 1, inplace=True)\n"
   ]
  },
  {
   "cell_type": "code",
   "execution_count": 9,
   "metadata": {},
   "outputs": [
    {
     "name": "stdout",
     "output_type": "stream",
     "text": [
      "Number of columns before droping columns 73\n"
     ]
    }
   ],
   "source": [
    "print('Number of columns before droping columns', house.shape[1])\n"
   ]
  },
  {
   "cell_type": "code",
   "execution_count": 10,
   "metadata": {},
   "outputs": [
    {
     "name": "stdout",
     "output_type": "stream",
     "text": [
      "No missing value in  MSSubClass\n",
      "No missing value in  LotArea\n",
      "No missing value in  OverallQual\n",
      "No missing value in  OverallCond\n",
      "No missing value in  YearBuilt\n",
      "No missing value in  YearRemodAdd\n",
      "missing value in: MasVnrArea\n",
      "Number of Missing values after replacing missing with mean 0\n",
      "No missing value in  BsmtFinSF1\n",
      "No missing value in  BsmtFinSF2\n",
      "No missing value in  BsmtUnfSF\n",
      "No missing value in  TotalBsmtSF\n",
      "No missing value in  1stFlrSF\n",
      "No missing value in  2ndFlrSF\n",
      "No missing value in  LowQualFinSF\n",
      "No missing value in  GrLivArea\n",
      "No missing value in  BsmtFullBath\n",
      "No missing value in  BsmtHalfBath\n",
      "No missing value in  FullBath\n",
      "No missing value in  HalfBath\n",
      "No missing value in  BedroomAbvGr\n",
      "No missing value in  KitchenAbvGr\n",
      "No missing value in  TotRmsAbvGrd\n",
      "No missing value in  Fireplaces\n",
      "missing value in: GarageYrBlt\n",
      "Number of Missing values after replacing missing with mean 0\n",
      "No missing value in  GarageCars\n",
      "No missing value in  GarageArea\n",
      "No missing value in  WoodDeckSF\n",
      "No missing value in  OpenPorchSF\n",
      "No missing value in  EnclosedPorch\n",
      "No missing value in  3SsnPorch\n",
      "No missing value in  ScreenPorch\n",
      "No missing value in  PoolArea\n",
      "No missing value in  MiscVal\n",
      "No missing value in  MoSold\n",
      "No missing value in  YrSold\n"
     ]
    }
   ],
   "source": [
    "# treatment of numerical columns with missing values\n",
    "extract_numericals = house.select_dtypes(include = ['number'])\n",
    "col_with_numerical = extract_numericals.columns\n",
    "for i in col_with_numerical:\n",
    "    if house[i].isnull().sum() == 0:\n",
    "        print(\"No missing value in \", i)\n",
    "        continue\n",
    "    \n",
    "    print(\"missing value in:\", i)\n",
    "    mean_to_fill = house[i].mean()\n",
    "    house[i].fillna(mean_to_fill, inplace=True)\n",
    "    num_missing_after_imputing_mean = house[i].isnull().sum()\n",
    "    print(\"Number of Missing values after replacing missing with mean\", num_missing_after_imputing_mean)"
   ]
  },
  {
   "cell_type": "code",
   "execution_count": 19,
   "metadata": {},
   "outputs": [
    {
     "name": "stdout",
     "output_type": "stream",
     "text": [
      "number of categorical variable: 38\n",
      "No missing value in  MSZoning\n",
      "No missing value in  Street\n",
      "No missing value in  LotShape\n",
      "No missing value in  LandContour\n",
      "No missing value in  Utilities\n",
      "No missing value in  LotConfig\n",
      "No missing value in  LandSlope\n",
      "No missing value in  Neighborhood\n",
      "No missing value in  Condition1\n",
      "No missing value in  Condition2\n",
      "No missing value in  BldgType\n",
      "No missing value in  HouseStyle\n",
      "No missing value in  RoofStyle\n",
      "No missing value in  RoofMatl\n",
      "No missing value in  Exterior1st\n",
      "No missing value in  Exterior2nd\n",
      "missing value in MasVnrType\n",
      "NO. of missing values after adjustment 0\n",
      "No missing value in  ExterQual\n",
      "No missing value in  ExterCond\n",
      "No missing value in  Foundation\n",
      "missing value in BsmtQual\n",
      "NO. of missing values after adjustment 0\n",
      "missing value in BsmtCond\n",
      "NO. of missing values after adjustment 0\n",
      "missing value in BsmtExposure\n",
      "NO. of missing values after adjustment 0\n",
      "missing value in BsmtFinType1\n",
      "NO. of missing values after adjustment 0\n",
      "missing value in BsmtFinType2\n",
      "NO. of missing values after adjustment 0\n",
      "No missing value in  Heating\n",
      "No missing value in  HeatingQC\n",
      "No missing value in  CentralAir\n",
      "missing value in Electrical\n",
      "NO. of missing values after adjustment 0\n",
      "No missing value in  KitchenQual\n",
      "No missing value in  Functional\n",
      "missing value in GarageType\n",
      "NO. of missing values after adjustment 0\n",
      "missing value in GarageFinish\n",
      "NO. of missing values after adjustment 0\n",
      "missing value in GarageQual\n",
      "NO. of missing values after adjustment 0\n",
      "missing value in GarageCond\n",
      "NO. of missing values after adjustment 0\n",
      "No missing value in  PavedDrive\n",
      "No missing value in  SaleType\n",
      "No missing value in  SaleCondition\n"
     ]
    }
   ],
   "source": [
    "#Treatment of categorical columns with missing value\n",
    "#extract categorical values\n",
    "cat_var = house.select_dtypes(include = ['object'])\n",
    "cat_var = cat_var.columns\n",
    "print(\"number of categorical variable:\", len(cat_var))\n",
    "for i in cat_var:\n",
    "    if house[i].isnull().sum() == 0:\n",
    "        print(\"No missing value in \", i)\n",
    "        continue\n",
    "    print(\"missing value in\", i)\n",
    "    mode_to_replace = pd.value_counts(house[i])\n",
    "    most_freq =  mode_to_replace.index[0]\n",
    "    house[i].fillna(most_freq, inplace = True)\n",
    "    num_after_imput_mode = house[i].isnull().sum()\n",
    "    print(\"NO. of missing values after adjustment\",  num_after_imput_mode)\n",
    "    "
   ]
  },
  {
   "cell_type": "code",
   "execution_count": 31,
   "metadata": {},
   "outputs": [
    {
     "name": "stdout",
     "output_type": "stream",
     "text": [
      "No of unique categories: 5\n",
      "Rare categories: []\n",
      "No rare category found\n",
      "No of unique categories: 2\n",
      "Rare categories: []\n",
      "No rare category found\n",
      "No of unique categories: 4\n",
      "Rare categories: []\n",
      "No rare category found\n",
      "No of unique categories: "
     ]
    },
    {
     "name": "stderr",
     "output_type": "stream",
     "text": [
      "/anaconda/lib/python3.6/site-packages/pandas/core/indexing.py:179: SettingWithCopyWarning: \n",
      "A value is trying to be set on a copy of a slice from a DataFrame\n",
      "\n",
      "See the caveats in the documentation: http://pandas.pydata.org/pandas-docs/stable/indexing.html#indexing-view-versus-copy\n",
      "  self._setitem_with_indexer(indexer, value)\n"
     ]
    },
    {
     "name": "stdout",
     "output_type": "stream",
     "text": [
      "4\n",
      "Rare categories: []\n",
      "No rare category found\n",
      "No of unique categories: 2\n",
      "Rare categories: ['NoSeWa']\n",
      "No of unique categories: 5\n",
      "Rare categories: ['FR3']\n",
      "No of unique categories: 3\n",
      "Rare categories: []\n",
      "No rare category found\n",
      "No of unique categories: 25\n",
      "Rare categories: ['Blueste']\n",
      "No of unique categories: 9\n",
      "Rare categories: ['RRNn', 'RRNe']\n",
      "No of unique categories: 8\n",
      "Rare categories: ['RRNn', 'Artery', 'PosN', 'RRAe', 'PosA', 'RRAn']\n",
      "No of unique categories: 5\n",
      "Rare categories: []\n",
      "No rare category found\n",
      "No of unique categories: 8\n",
      "Rare categories: []\n",
      "No rare category found\n",
      "No of unique categories: 6\n",
      "Rare categories: ['Shed']\n",
      "No of unique categories: 8\n",
      "Rare categories: ['WdShake', 'Metal', 'Membran', 'ClyTile', 'Roll']\n",
      "No of unique categories: 15\n",
      "Rare categories: ['Stone', 'BrkComm', 'ImStucc', 'CBlock', 'AsphShn']\n",
      "No of unique categories: 16\n",
      "Rare categories: ['Stone', 'AsphShn', 'Other', 'CBlock']\n",
      "No of unique categories: 4\n",
      "Rare categories: []\n",
      "No rare category found\n",
      "No of unique categories: 4\n",
      "Rare categories: []\n",
      "No rare category found\n",
      "No of unique categories: 5\n",
      "Rare categories: ['Ex', 'Po']\n",
      "No of unique categories: 6\n",
      "Rare categories: ['Wood']\n",
      "No of unique categories: 4\n",
      "Rare categories: []\n",
      "No rare category found\n",
      "No of unique categories: 4\n",
      "Rare categories: ['Po']\n",
      "No of unique categories: 4\n",
      "Rare categories: []\n",
      "No rare category found\n",
      "No of unique categories: 6\n",
      "Rare categories: []\n",
      "No rare category found\n",
      "No of unique categories: 6\n",
      "Rare categories: []\n",
      "No rare category found\n",
      "No of unique categories: 6\n",
      "Rare categories: ['Wall', 'OthW', 'Floor']\n",
      "No of unique categories: 5\n",
      "Rare categories: ['Po']\n",
      "No of unique categories: 2\n",
      "Rare categories: []\n",
      "No rare category found\n",
      "No of unique categories: 5\n",
      "Rare categories: ['FuseP', 'Mix']\n",
      "No of unique categories: 4\n",
      "Rare categories: []\n",
      "No rare category found\n",
      "No of unique categories: 7\n",
      "Rare categories: ['Maj2', 'Sev']\n",
      "No of unique categories: 6\n",
      "Rare categories: []\n",
      "No rare category found\n",
      "No of unique categories: 3\n",
      "Rare categories: []\n",
      "No rare category found\n",
      "No of unique categories: 5\n",
      "Rare categories: ['Po', 'Ex']\n",
      "No of unique categories: 5\n",
      "Rare categories: ['Ex']\n",
      "No of unique categories: 3\n",
      "Rare categories: []\n",
      "No rare category found\n",
      "No of unique categories: 9\n",
      "Rare categories: ['ConLI', 'ConLw', 'CWD', 'Oth', 'Con']\n",
      "No of unique categories: 6\n",
      "Rare categories: ['AdjLand']\n"
     ]
    }
   ],
   "source": [
    "#Transform categorical variable to numberical\n",
    "# subsumed categorical variable with a frequency rate less than 5% into 'misc/others'\n",
    "cat_var\n",
    "rare_perct = 5.\n",
    "for i in cat_var:\n",
    "    freq_count = pd.value_counts(house[i])\n",
    "    print('No of unique categories:', len(freq_count))\n",
    "    percent_freq = freq_count*100./house.shape[0]\n",
    "    rare_cate = [i for i, v in zip(freq_count.index,freq_count.values) if v <= rare_perct]\n",
    "    print(\"Rare categories:\", rare_cate)\n",
    "    if len(rare_cate) == 0:\n",
    "        print(\"No rare category found\")\n",
    "        continue\n",
    "    house[i].loc[house[i].isin(rare_cate)] = i + \"_Misc\"\n",
    "    "
   ]
  },
  {
   "cell_type": "code",
   "execution_count": 43,
   "metadata": {},
   "outputs": [
    {
     "data": {
      "text/plain": [
       "38"
      ]
     },
     "execution_count": 43,
     "metadata": {},
     "output_type": "execute_result"
    }
   ],
   "source": [
    "len(cat_var)"
   ]
  },
  {
   "cell_type": "code",
   "execution_count": 44,
   "metadata": {
    "collapsed": true
   },
   "outputs": [],
   "source": [
    "#create Dummy variable\n",
    "dummyvars = pd.get_dummies(house, columns = cat_var)"
   ]
  },
  {
   "cell_type": "code",
   "execution_count": 46,
   "metadata": {},
   "outputs": [
    {
     "data": {
      "text/plain": [
       "(1460, 242)"
      ]
     },
     "execution_count": 46,
     "metadata": {},
     "output_type": "execute_result"
    }
   ],
   "source": [
    "dummyvars.shape"
   ]
  },
  {
   "cell_type": "code",
   "execution_count": null,
   "metadata": {
    "collapsed": true
   },
   "outputs": [],
   "source": []
  }
 ],
 "metadata": {
  "kernelspec": {
   "display_name": "Python 3",
   "language": "python",
   "name": "python3"
  },
  "language_info": {
   "codemirror_mode": {
    "name": "ipython",
    "version": 3
   },
   "file_extension": ".py",
   "mimetype": "text/x-python",
   "name": "python",
   "nbconvert_exporter": "python",
   "pygments_lexer": "ipython3",
   "version": "3.6.1"
  }
 },
 "nbformat": 4,
 "nbformat_minor": 2
}
